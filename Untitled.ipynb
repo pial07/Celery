{
 "cells": [
  {
   "cell_type": "code",
   "execution_count": null,
   "id": "d152d8f0-41a2-4ac1-9799-e4bd590db44b",
   "metadata": {},
   "outputs": [],
   "source": []
  }
 ],
 "metadata": {
  "kernelspec": {
   "display_name": "",
   "name": ""
  },
  "language_info": {
   "name": ""
  }
 },
 "nbformat": 4,
 "nbformat_minor": 5
}
