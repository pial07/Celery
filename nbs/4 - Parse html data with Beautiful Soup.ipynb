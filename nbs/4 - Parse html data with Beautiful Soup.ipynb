{
 "cells": [
  {
   "cell_type": "markdown",
   "id": "e61c01f8-575a-4b42-8422-4d888e2cd906",
   "metadata": {},
   "source": [
    "Get your [Bright Data account](https://brdta.com/justin)"
   ]
  },
  {
   "cell_type": "code",
   "execution_count": 1,
   "id": "48c1f484-5f54-4ce4-ac57-98b2f8a5af04",
   "metadata": {},
   "outputs": [],
   "source": [
    "url = 'https://www.amazon.com/PlayStation%C2%AE5-Digital-slim-PlayStation-5/dp/B0CL5KNB9M/ref=sr_1_3?crid=B7GWFZXZ2OED&dib=eyJ2IjoiMSJ9.kgp6If9Ie8zGHwBo-0htBLyQbbKjs5VuqpcJV5opH4mRqQT9y1GDUhgEGC4Ze5c7iOpklu5U3l_vF3hGTmGfZf8jvVY7cSGvtmhRbSth2-wUchP4cPB4bCopxZnBPpqLbX4wU-JZkepl_i4fGdXQJXUMLc256FqdCdlbjr6ZMyFHhWIJq2G38fcfQx3z9RS1e48jNXaYXv1rWtJ3Y30-OZP-ckGz15zF5vR6k6z6G6c.HDrf64xu0Nz7DYLZvUdGglWizRZpAXBxsxbsgsW26Tc&dib_tag=se&keywords=ps5&qid=1709675943&sprefix=ps5%2Caps%2C190&sr=8-3&th=1'"
   ]
  },
  {
   "cell_type": "code",
   "execution_count": 2,
   "id": "5e6b875f-38aa-43d1-8bf6-2f51deb88170",
   "metadata": {},
   "outputs": [],
   "source": [
    "import os\n",
    "os.environ[\"CD\"] = \"H:/py4e/DJ Celery\"\n",
    "import setup\n",
    "setup.init_django(project_name=\"pialhome\")"
   ]
  },
  {
   "cell_type": "code",
   "execution_count": 3,
   "id": "f5db35da-6859-42ef-b5fe-81c55bc89bfa",
   "metadata": {},
   "outputs": [],
   "source": [
    "from bs4 import BeautifulSoup"
   ]
  },
  {
   "cell_type": "code",
   "execution_count": 4,
   "id": "744bd621-5cdf-4dbd-8b18-cb2da9b251d2",
   "metadata": {},
   "outputs": [
    {
     "name": "stdout",
     "output_type": "stream",
     "text": [
      "Connecting to Scraping Browser...\n"
     ]
    },
    {
     "name": "stderr",
     "output_type": "stream",
     "text": [
      "H:\\py4e\\DJ Celery\\venv\\Lib\\site-packages\\selenium\\webdriver\\remote\\remote_connection.py:418: UserWarning: Embedding username and password in URL could be insecure, use ClientConfig instead\n",
      "  headers = self.get_remote_connection_headers(parsed_url, self._client_config.keep_alive)\n"
     ]
    },
    {
     "name": "stdout",
     "output_type": "stream",
     "text": [
      "Connected! Navigating to https://www.amazon.com/PlayStation%C2%AE5-Digital-slim-PlayStation-5/dp/B0CL5KNB9M/ref=sr_1_3?crid=B7GWFZXZ2OED&dib=eyJ2IjoiMSJ9.kgp6If9Ie8zGHwBo-0htBLyQbbKjs5VuqpcJV5opH4mRqQT9y1GDUhgEGC4Ze5c7iOpklu5U3l_vF3hGTmGfZf8jvVY7cSGvtmhRbSth2-wUchP4cPB4bCopxZnBPpqLbX4wU-JZkepl_i4fGdXQJXUMLc256FqdCdlbjr6ZMyFHhWIJq2G38fcfQx3z9RS1e48jNXaYXv1rWtJ3Y30-OZP-ckGz15zF5vR6k6z6G6c.HDrf64xu0Nz7DYLZvUdGglWizRZpAXBxsxbsgsW26Tc&dib_tag=se&keywords=ps5&qid=1709675943&sprefix=ps5%2Caps%2C190&sr=8-3&th=1\n",
      "Taking page screenshot to file page.png\n",
      "Navigated! Scraping page content...\n"
     ]
    }
   ],
   "source": [
    "import helpers\n",
    "html= helpers.scrape(url=url)"
   ]
  },
  {
   "cell_type": "code",
   "execution_count": 5,
   "id": "d410b06b-d02c-4dca-b544-204b5d25a800",
   "metadata": {},
   "outputs": [],
   "source": [
    "soup=BeautifulSoup(html)"
   ]
  },
  {
   "cell_type": "code",
   "execution_count": 1,
   "id": "dc01d584-23da-42d3-89f7-c120d8f4c5d5",
   "metadata": {},
   "outputs": [
    {
     "ename": "NameError",
     "evalue": "name 'soup' is not defined",
     "output_type": "error",
     "traceback": [
      "\u001b[31m---------------------------------------------------------------------------\u001b[39m",
      "\u001b[31mNameError\u001b[39m                                 Traceback (most recent call last)",
      "\u001b[36mCell\u001b[39m\u001b[36m \u001b[39m\u001b[32mIn[1]\u001b[39m\u001b[32m, line 1\u001b[39m\n\u001b[32m----> \u001b[39m\u001b[32m1\u001b[39m productTitle=\u001b[43msoup\u001b[49m.find(\u001b[33m'\u001b[39m\u001b[33mspan\u001b[39m\u001b[33m'\u001b[39m,\u001b[38;5;28mid\u001b[39m=\u001b[33m\"\u001b[39m\u001b[33mproductTitle\u001b[39m\u001b[33m\"\u001b[39m)\n\u001b[32m      2\u001b[39m productTitle\n",
      "\u001b[31mNameError\u001b[39m: name 'soup' is not defined"
     ]
    }
   ],
   "source": [
    "productTitle=soup.find('span',id=\"productTitle\")\n",
    "productTitle"
   ]
  },
  {
   "cell_type": "code",
   "execution_count": null,
   "id": "f0c58587-93c0-47ed-83a0-316728b3d7b3",
   "metadata": {},
   "outputs": [],
   "source": []
  }
 ],
 "metadata": {
  "kernelspec": {
   "display_name": "Python 3 (ipykernel)",
   "language": "python",
   "name": "python3"
  },
  "language_info": {
   "codemirror_mode": {
    "name": "ipython",
    "version": 3
   },
   "file_extension": ".py",
   "mimetype": "text/x-python",
   "name": "python",
   "nbconvert_exporter": "python",
   "pygments_lexer": "ipython3",
   "version": "3.12.6"
  }
 },
 "nbformat": 4,
 "nbformat_minor": 5
}
