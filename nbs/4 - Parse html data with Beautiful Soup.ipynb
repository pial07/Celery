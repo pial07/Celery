{
 "cells": [
  {
   "cell_type": "markdown",
   "id": "e61c01f8-575a-4b42-8422-4d888e2cd906",
   "metadata": {},
   "source": [
    "Get your [Bright Data account](https://brdta.com/justin)"
   ]
  },
  {
   "cell_type": "code",
   "execution_count": 1,
   "id": "48c1f484-5f54-4ce4-ac57-98b2f8a5af04",
   "metadata": {},
   "outputs": [],
   "source": [
    "url = 'https://www.amazon.com/PlayStation%C2%AE5-Digital-slim-PlayStation-5/dp/B0CL5KNB9M/ref=sr_1_3?crid=B7GWFZXZ2OED&dib=eyJ2IjoiMSJ9.kgp6If9Ie8zGHwBo-0htBLyQbbKjs5VuqpcJV5opH4mRqQT9y1GDUhgEGC4Ze5c7iOpklu5U3l_vF3hGTmGfZf8jvVY7cSGvtmhRbSth2-wUchP4cPB4bCopxZnBPpqLbX4wU-JZkepl_i4fGdXQJXUMLc256FqdCdlbjr6ZMyFHhWIJq2G38fcfQx3z9RS1e48jNXaYXv1rWtJ3Y30-OZP-ckGz15zF5vR6k6z6G6c.HDrf64xu0Nz7DYLZvUdGglWizRZpAXBxsxbsgsW26Tc&dib_tag=se&keywords=ps5&qid=1709675943&sprefix=ps5%2Caps%2C190&sr=8-3&th=1'"
   ]
  },
  {
   "cell_type": "code",
   "execution_count": 2,
   "id": "5e6b875f-38aa-43d1-8bf6-2f51deb88170",
   "metadata": {},
   "outputs": [],
   "source": [
    "import os\n",
    "os.environ[\"CD\"] = \"G:\\\\py4e\\\\DJ Celery\" \n",
    "import setup\n",
    "setup.init_django(project_name=\"pialhome\")"
   ]
  },
  {
   "cell_type": "code",
   "execution_count": 3,
   "id": "f5db35da-6859-42ef-b5fe-81c55bc89bfa",
   "metadata": {},
   "outputs": [],
   "source": [
    "from bs4 import BeautifulSoup"
   ]
  },
  {
   "cell_type": "code",
   "execution_count": 4,
   "id": "744bd621-5cdf-4dbd-8b18-cb2da9b251d2",
   "metadata": {},
   "outputs": [
    {
     "name": "stdout",
     "output_type": "stream",
     "text": [
      "Connecting to Scraping Browser...\n"
     ]
    },
    {
     "name": "stderr",
     "output_type": "stream",
     "text": [
      "G:\\py4e\\DJ Celery\\venv\\Lib\\site-packages\\selenium\\webdriver\\remote\\remote_connection.py:418: UserWarning: Embedding username and password in URL could be insecure, use ClientConfig instead\n",
      "  headers = self.get_remote_connection_headers(parsed_url, self._client_config.keep_alive)\n"
     ]
    },
    {
     "name": "stdout",
     "output_type": "stream",
     "text": [
      "Connected! Navigating to https://www.amazon.com/PlayStation%C2%AE5-Digital-slim-PlayStation-5/dp/B0CL5KNB9M/ref=sr_1_3?crid=B7GWFZXZ2OED&dib=eyJ2IjoiMSJ9.kgp6If9Ie8zGHwBo-0htBLyQbbKjs5VuqpcJV5opH4mRqQT9y1GDUhgEGC4Ze5c7iOpklu5U3l_vF3hGTmGfZf8jvVY7cSGvtmhRbSth2-wUchP4cPB4bCopxZnBPpqLbX4wU-JZkepl_i4fGdXQJXUMLc256FqdCdlbjr6ZMyFHhWIJq2G38fcfQx3z9RS1e48jNXaYXv1rWtJ3Y30-OZP-ckGz15zF5vR6k6z6G6c.HDrf64xu0Nz7DYLZvUdGglWizRZpAXBxsxbsgsW26Tc&dib_tag=se&keywords=ps5&qid=1709675943&sprefix=ps5%2Caps%2C190&sr=8-3&th=1\n",
      "Taking page screenshot to file page.png\n",
      "Navigated! Scraping page content...\n"
     ]
    }
   ],
   "source": [
    "import helpers\n",
    "html= helpers.scrape(url=url)"
   ]
  },
  {
   "cell_type": "code",
   "execution_count": 5,
   "id": "6c1410c0-ea22-4a7a-9c80-254115bb9302",
   "metadata": {},
   "outputs": [
    {
     "data": {
      "text/plain": [
       "<span class=\"a-size-large product-title-word-break\" id=\"productTitle\">        PlayStation®5 Digital Edition (slim)       </span>"
      ]
     },
     "execution_count": 5,
     "metadata": {},
     "output_type": "execute_result"
    }
   ],
   "source": [
    "soup=BeautifulSoup(html)\n",
    "productTitle=soup.find('span',id=\"productTitle\")\n",
    "productTitle"
   ]
  },
  {
   "cell_type": "code",
   "execution_count": 6,
   "id": "2ff1d7fb-9ca3-4368-a804-a3b459de3a2c",
   "metadata": {},
   "outputs": [
    {
     "data": {
      "text/plain": [
       "'PlayStation®5 Digital Edition (slim)'"
      ]
     },
     "execution_count": 6,
     "metadata": {},
     "output_type": "execute_result"
    }
   ],
   "source": [
    "productTitle=soup.find('span', id='productTitle')\n",
    "productTitle=f\"{productTitle.text}\".strip()\n",
    "productTitle"
   ]
  },
  {
   "cell_type": "code",
   "execution_count": 7,
   "id": "2e1e2576-7604-489a-a3a0-79bae105688f",
   "metadata": {},
   "outputs": [
    {
     "data": {
      "text/plain": [
       "[]"
      ]
     },
     "execution_count": 7,
     "metadata": {},
     "output_type": "execute_result"
    }
   ],
   "source": [
    "productPrice=soup.find_all('div', class_=\"a-price-whole\")\n",
    "productPrice"
   ]
  },
  {
   "cell_type": "code",
   "execution_count": 19,
   "id": "fb5f578a-e0e3-4bdd-bb84-becd32ea2396",
   "metadata": {},
   "outputs": [
    {
     "data": {
      "text/plain": [
       "['ASIN',\n",
       " 'Release date',\n",
       " 'Customer Reviews',\n",
       " 'Best Sellers Rank',\n",
       " 'Product Dimensions',\n",
       " 'Type of item',\n",
       " 'Item model number',\n",
       " 'Item Weight',\n",
       " 'Manufacturer',\n",
       " 'Country of Origin',\n",
       " 'Batteries',\n",
       " 'Date First Available']"
      ]
     },
     "execution_count": 19,
     "metadata": {},
     "output_type": "execute_result"
    }
   ],
   "source": [
    "productData=soup.find('div', id=\"prodDetails\")\n",
    "table=productData.find('table')\n",
    "columns= [f'{x.text}'.strip() for x in table.find_all('th')]\n",
    "columns"
   ]
  },
  {
   "cell_type": "code",
   "execution_count": 33,
   "id": "51df5695-8d60-493b-b16b-e3e5dddd23ad",
   "metadata": {},
   "outputs": [],
   "source": [
    "table_data=[]\n",
    "for i, raw in enumerate(table.find_all('tr')):\n",
    "    cells=raw.find_all('td')\n",
    "    row_data={columns[i]:f\"{cell.text}\".strip() for cell in cells}\n",
    "    table_data.append(row_data)"
   ]
  },
  {
   "cell_type": "code",
   "execution_count": 34,
   "id": "3054c052-694a-46d6-80a0-7c1cf1abb617",
   "metadata": {},
   "outputs": [
    {
     "data": {
      "text/plain": [
       "[{'ASIN': 'B0CL5KNB9M'},\n",
       " {'Release date': 'November 24, 2023'},\n",
       " {'Customer Reviews': '4.6  4.6 out of 5 stars    \\n    6,083 ratings   \\n\\n\\n 4.6 out of 5 stars'},\n",
       " {'Best Sellers Rank': '#150 in Video Games (See Top 100 in Video Games)  #3 in PlayStation 5 Consoles'},\n",
       " {'Product Dimensions': '17 x 15 x 6 inches; 8.9 Pounds'},\n",
       " {'Type of item': 'Video Game'},\n",
       " {'Item model number': 'CFI-2000'},\n",
       " {'Item Weight': '8.9 pounds'},\n",
       " {'Manufacturer': 'Sony'},\n",
       " {'Country of Origin': 'China'},\n",
       " {'Batteries': '1 Lithium Ion batteries required. (included)'},\n",
       " {'Date First Available': 'November 24, 2023'}]"
      ]
     },
     "execution_count": 34,
     "metadata": {},
     "output_type": "execute_result"
    }
   ],
   "source": [
    "table_data"
   ]
  },
  {
   "cell_type": "code",
   "execution_count": 39,
   "id": "4d3b810f-9e13-4514-bc55-aa15c2500f2a",
   "metadata": {},
   "outputs": [
    {
     "name": "stdout",
     "output_type": "stream",
     "text": [
      "['B0CL5KNB9M']\n"
     ]
    }
   ],
   "source": [
    "elements_with_attribute=soup.find_all(lambda tag: tag.has_attr(\"data-csa-c-asin\"))\n",
    "asins=[ x.get(\"data-csa-c-asin\") for x in elements_with_attribute if x]\n",
    "asins= list(set([(x) for x in asins if x!=\"\"]))\n",
    "print(asins)"
   ]
  },
  {
   "cell_type": "code",
   "execution_count": 50,
   "id": "4025b8a6-5109-42f4-b7b7-853bb3ede96a",
   "metadata": {},
   "outputs": [
    {
     "name": "stdout",
     "output_type": "stream",
     "text": [
      "4.6\n"
     ]
    }
   ],
   "source": [
    "average_rating=soup.find(id=\"averageCustomerReviews\").find_all(\"span\",class_='a-size-base')[0].text.strip()\n",
    "average_rating=\"\".join([x for x in f\"{average_rating}\".strip() if x.isdigit() or x==\".\"])\n",
    "average_rating=float(average_rating)\n",
    "print (average_rating)"
   ]
  },
  {
   "cell_type": "code",
   "execution_count": 47,
   "id": "a8817bd2-d3b4-41ae-949f-75ba78451c77",
   "metadata": {},
   "outputs": [
    {
     "data": {
      "text/plain": [
       "6083"
      ]
     },
     "execution_count": 47,
     "metadata": {},
     "output_type": "execute_result"
    }
   ],
   "source": [
    "review_count=soup.find(id='acrCustomerReviewText').text\n",
    "review_count= int(\"\".join (x for x in f\"{review_count}\".strip() if x.isdigit()))\n",
    "review_count"
   ]
  },
  {
   "cell_type": "code",
   "execution_count": null,
   "id": "2f98e86b-4dec-4b49-9b46-3e3f2c8613b1",
   "metadata": {},
   "outputs": [],
   "source": []
  }
 ],
 "metadata": {
  "kernelspec": {
   "display_name": "Python 3 (ipykernel)",
   "language": "python",
   "name": "python3"
  },
  "language_info": {
   "codemirror_mode": {
    "name": "ipython",
    "version": 3
   },
   "file_extension": ".py",
   "mimetype": "text/x-python",
   "name": "python",
   "nbconvert_exporter": "python",
   "pygments_lexer": "ipython3",
   "version": "3.12.6"
  }
 },
 "nbformat": 4,
 "nbformat_minor": 5
}
