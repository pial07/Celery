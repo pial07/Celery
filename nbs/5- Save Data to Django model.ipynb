{
 "cells": [
  {
   "cell_type": "markdown",
   "id": "e61c01f8-575a-4b42-8422-4d888e2cd906",
   "metadata": {},
   "source": [
    "Get your [Bright Data account](https://brdta.com/justin)"
   ]
  },
  {
   "cell_type": "code",
   "execution_count": 1,
   "id": "48c1f484-5f54-4ce4-ac57-98b2f8a5af04",
   "metadata": {},
   "outputs": [],
   "source": [
    "url = 'https://www.amazon.com/PlayStation%C2%AE5-Digital-slim-PlayStation-5/dp/B0CL5KNB9M/ref=sr_1_3?crid=B7GWFZXZ2OED&dib=eyJ2IjoiMSJ9.kgp6If9Ie8zGHwBo-0htBLyQbbKjs5VuqpcJV5opH4mRqQT9y1GDUhgEGC4Ze5c7iOpklu5U3l_vF3hGTmGfZf8jvVY7cSGvtmhRbSth2-wUchP4cPB4bCopxZnBPpqLbX4wU-JZkepl_i4fGdXQJXUMLc256FqdCdlbjr6ZMyFHhWIJq2G38fcfQx3z9RS1e48jNXaYXv1rWtJ3Y30-OZP-ckGz15zF5vR6k6z6G6c.HDrf64xu0Nz7DYLZvUdGglWizRZpAXBxsxbsgsW26Tc&dib_tag=se&keywords=ps5&qid=1709675943&sprefix=ps5%2Caps%2C190&sr=8-3&th=1'"
   ]
  },
  {
   "cell_type": "code",
   "execution_count": 2,
   "id": "f5db35da-6859-42ef-b5fe-81c55bc89bfa",
   "metadata": {},
   "outputs": [],
   "source": [
    "from bs4 import BeautifulSoup"
   ]
  },
  {
   "cell_type": "code",
   "execution_count": 3,
   "id": "5e6b875f-38aa-43d1-8bf6-2f51deb88170",
   "metadata": {},
   "outputs": [],
   "source": [
    "import os\n",
    "os.environ[\"CD\"] = \"H:\\\\py4e\\\\DJ Celery\" \n",
    "import setup\n",
    "setup.init_django(project_name=\"pialhome\")"
   ]
  },
  {
   "cell_type": "code",
   "execution_count": 4,
   "id": "744bd621-5cdf-4dbd-8b18-cb2da9b251d2",
   "metadata": {},
   "outputs": [],
   "source": [
    "import helpers\n"
   ]
  },
  {
   "cell_type": "code",
   "execution_count": 6,
   "id": "a8817bd2-d3b4-41ae-949f-75ba78451c77",
   "metadata": {},
   "outputs": [
    {
     "name": "stdout",
     "output_type": "stream",
     "text": [
      "Connecting to Scraping Browser...\n"
     ]
    },
    {
     "name": "stderr",
     "output_type": "stream",
     "text": [
      "G:\\py4e\\DJ Celery\\venv\\Lib\\site-packages\\selenium\\webdriver\\remote\\remote_connection.py:418: UserWarning: Embedding username and password in URL could be insecure, use ClientConfig instead\n",
      "  headers = self.get_remote_connection_headers(parsed_url, self._client_config.keep_alive)\n"
     ]
    },
    {
     "name": "stdout",
     "output_type": "stream",
     "text": [
      "Connected! Navigating to https://www.amazon.com/PlayStation%C2%AE5-Digital-slim-PlayStation-5/dp/B0CL5KNB9M/ref=sr_1_3?crid=B7GWFZXZ2OED&dib=eyJ2IjoiMSJ9.kgp6If9Ie8zGHwBo-0htBLyQbbKjs5VuqpcJV5opH4mRqQT9y1GDUhgEGC4Ze5c7iOpklu5U3l_vF3hGTmGfZf8jvVY7cSGvtmhRbSth2-wUchP4cPB4bCopxZnBPpqLbX4wU-JZkepl_i4fGdXQJXUMLc256FqdCdlbjr6ZMyFHhWIJq2G38fcfQx3z9RS1e48jNXaYXv1rWtJ3Y30-OZP-ckGz15zF5vR6k6z6G6c.HDrf64xu0Nz7DYLZvUdGglWizRZpAXBxsxbsgsW26Tc&dib_tag=se&keywords=ps5&qid=1709675943&sprefix=ps5%2Caps%2C190&sr=8-3&th=1\n",
      "Taking page screenshot to file page.png\n",
      "Navigated! Scraping page content...\n"
     ]
    }
   ],
   "source": [
    "html= helpers.scrape(url=url)\n",
    "data=helpers.extract_amazon_product_data(html)"
   ]
  },
  {
   "cell_type": "code",
   "execution_count": 7,
   "id": "2f98e86b-4dec-4b49-9b46-3e3f2c8613b1",
   "metadata": {},
   "outputs": [
    {
     "data": {
      "text/plain": [
       "{'asin': 'B0CL5KNB9M',\n",
       " 'title': 'PlayStation®5 Digital Edition (slim)',\n",
       " 'price_raw': '449.',\n",
       " 'price_text': '449.',\n",
       " 'price': 449.0,\n",
       " 'metadata': [{'ASIN': 'B0CL5KNB9M'},\n",
       "  {'Release date': 'November 24, 2023'},\n",
       "  {'Customer Reviews': '4.6  4.6 out of 5 stars    \\n    6,084 ratings   \\n\\n\\n 4.6 out of 5 stars'},\n",
       "  {'Best Sellers Rank': '#151 in Video Games (See Top 100 in Video Games)  #3 in PlayStation 5 Consoles'},\n",
       "  {'Product Dimensions': '17 x 15 x 6 inches; 8.9 Pounds'},\n",
       "  {'Type of item': 'Video Game'},\n",
       "  {'Item model number': 'CFI-2000'},\n",
       "  {'Item Weight': '8.9 pounds'},\n",
       "  {'Manufacturer': 'Sony'},\n",
       "  {'Country of Origin': 'China'},\n",
       "  {'Batteries': '1 Lithium Ion batteries required. (included)'},\n",
       "  {'Date First Available': 'November 24, 2023'}],\n",
       " 'description': ' \\n Play Like Never Before. The PS5 Digital Edition unleashes new gaming possibilities that you never anticipated. Experience lightning fast loading with an ultra-high speed SSD, deeper immersion with support for haptic feedback, adaptive triggers, and 3D Audio*,and an all-new generation of incredible PlayStation® games. PS5 Digital Edition is an all-digital version of the PS5 console with no disc drive. Sign into your account for PlayStation Network and go to PlayStation Store to buy and download games (Account for PlayStation Network required). Lightning Speed - Harness the power of a custom CPU, GPU, and SSD with Integrated I/O that rewrite the rules of what a PlayStation console can do. Stunning Games - Marvel at incredible graphics and experience new PS5 features. Play a back catalog of supported PS4 games. Breathtaking Immersion - Discover a deeper gaming experience with support for haptic feedback, adaptive triggers, and 3D Audio technology. *3D audio via built-in TV speakers or analog/USB stereo headphones. Set up and latest system software update required.  ',\n",
       " 'feature_bullets': '   About this item    Model Number CFI-2000    Includes DualSense Wireless Controller, 1TB SSD, 2 Horizontal Stand Feet, HDMI Cable, AC power cord, USB cable, printed materials, ASTRO’s PLAYROOM (Pre-installed game)    Vertical Stand sold seperately    \\n ›  See more product details   ',\n",
       " 'rating': {'average': 4.6, 'count': 6084}}"
      ]
     },
     "execution_count": 7,
     "metadata": {},
     "output_type": "execute_result"
    }
   ],
   "source": [
    "data"
   ]
  },
  {
   "cell_type": "code",
   "execution_count": null,
   "id": "ceaa6c44-2935-48ca-bbaa-b1db7bbbfddf",
   "metadata": {},
   "outputs": [],
   "source": []
  }
 ],
 "metadata": {
  "kernelspec": {
   "display_name": "Python 3 (ipykernel)",
   "language": "python",
   "name": "python3"
  },
  "language_info": {
   "codemirror_mode": {
    "name": "ipython",
    "version": 3
   },
   "file_extension": ".py",
   "mimetype": "text/x-python",
   "name": "python",
   "nbconvert_exporter": "python",
   "pygments_lexer": "ipython3",
   "version": "3.12.6"
  }
 },
 "nbformat": 4,
 "nbformat_minor": 5
}
