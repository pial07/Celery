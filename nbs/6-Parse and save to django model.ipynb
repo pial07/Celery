{
 "cells": [
  {
   "cell_type": "markdown",
   "id": "e61c01f8-575a-4b42-8422-4d888e2cd906",
   "metadata": {},
   "source": [
    "Get your [Bright Data account](https://brdta.com/justin)"
   ]
  },
  {
   "cell_type": "code",
   "execution_count": 15,
   "id": "48c1f484-5f54-4ce4-ac57-98b2f8a5af04",
   "metadata": {},
   "outputs": [],
   "source": [
    "url = 'https://www.amazon.com/PlayStation%C2%AE5-Digital-slim-PlayStation-5/dp/B0CL5KNB9M/ref=sr_1_3?crid=B7GWFZXZ2OED&dib=eyJ2IjoiMSJ9.kgp6If9Ie8zGHwBo-0htBLyQbbKjs5VuqpcJV5opH4mRqQT9y1GDUhgEGC4Ze5c7iOpklu5U3l_vF3hGTmGfZf8jvVY7cSGvtmhRbSth2-wUchP4cPB4bCopxZnBPpqLbX4wU-JZkepl_i4fGdXQJXUMLc256FqdCdlbjr6ZMyFHhWIJq2G38fcfQx3z9RS1e48jNXaYXv1rWtJ3Y30-OZP-ckGz15zF5vR6k6z6G6c.HDrf64xu0Nz7DYLZvUdGglWizRZpAXBxsxbsgsW26Tc&dib_tag=se&keywords=ps5&qid=1709675943&sprefix=ps5%2Caps%2C190&sr=8-3&th=1'"
   ]
  },
  {
   "cell_type": "code",
   "execution_count": 16,
   "id": "f5db35da-6859-42ef-b5fe-81c55bc89bfa",
   "metadata": {},
   "outputs": [],
   "source": [
    "from bs4 import BeautifulSoup\n"
   ]
  },
  {
   "cell_type": "code",
   "execution_count": 17,
   "id": "5e6b875f-38aa-43d1-8bf6-2f51deb88170",
   "metadata": {},
   "outputs": [],
   "source": [
    "import os\n",
    "os.environ[\"CD\"] = \"H:\\\\py4e\\\\DJ Celery\" \n",
    "import setup\n",
    "setup.init_django(project_name=\"pialhome\")"
   ]
  },
  {
   "cell_type": "code",
   "execution_count": 18,
   "id": "744bd621-5cdf-4dbd-8b18-cb2da9b251d2",
   "metadata": {},
   "outputs": [],
   "source": [
    "import helpers\n",
    "from products.models import ProductScrapeEvent,Product"
   ]
  },
  {
   "cell_type": "code",
   "execution_count": 19,
   "id": "a8817bd2-d3b4-41ae-949f-75ba78451c77",
   "metadata": {},
   "outputs": [
    {
     "name": "stdout",
     "output_type": "stream",
     "text": [
      "Connecting to Scraping Browser...\n",
      "Connected! Navigating to https://www.amazon.com/PlayStation%C2%AE5-Digital-slim-PlayStation-5/dp/B0CL5KNB9M/ref=sr_1_3?crid=B7GWFZXZ2OED&dib=eyJ2IjoiMSJ9.kgp6If9Ie8zGHwBo-0htBLyQbbKjs5VuqpcJV5opH4mRqQT9y1GDUhgEGC4Ze5c7iOpklu5U3l_vF3hGTmGfZf8jvVY7cSGvtmhRbSth2-wUchP4cPB4bCopxZnBPpqLbX4wU-JZkepl_i4fGdXQJXUMLc256FqdCdlbjr6ZMyFHhWIJq2G38fcfQx3z9RS1e48jNXaYXv1rWtJ3Y30-OZP-ckGz15zF5vR6k6z6G6c.HDrf64xu0Nz7DYLZvUdGglWizRZpAXBxsxbsgsW26Tc&dib_tag=se&keywords=ps5&qid=1709675943&sprefix=ps5%2Caps%2C190&sr=8-3&th=1\n",
      "Taking page screenshot to file page.png\n",
      "Navigated! Scraping page content...\n"
     ]
    }
   ],
   "source": [
    "html= helpers.scrape(url=url)\n",
    "data=helpers.extract_amazon_product_data(html)"
   ]
  },
  {
   "cell_type": "code",
   "execution_count": 20,
   "id": "2f98e86b-4dec-4b49-9b46-3e3f2c8613b1",
   "metadata": {},
   "outputs": [
    {
     "data": {
      "text/plain": [
       "<ProductScrapeEvent: ProductScrapeEvent object (4)>"
      ]
     },
     "execution_count": 20,
     "metadata": {},
     "output_type": "execute_result"
    }
   ],
   "source": [
    "ProductScrapeEvent.objects.create_scrape_event(data=data,url=url)"
   ]
  },
  {
   "cell_type": "code",
   "execution_count": 21,
   "id": "ceaa6c44-2935-48ca-bbaa-b1db7bbbfddf",
   "metadata": {},
   "outputs": [
    {
     "data": {
      "text/plain": [
       "<QuerySet [<ProductScrapeEvent: ProductScrapeEvent object (1)>, <ProductScrapeEvent: ProductScrapeEvent object (2)>, <ProductScrapeEvent: ProductScrapeEvent object (3)>, <ProductScrapeEvent: ProductScrapeEvent object (4)>]>"
      ]
     },
     "execution_count": 21,
     "metadata": {},
     "output_type": "execute_result"
    }
   ],
   "source": [
    "qs=ProductScrapeEvent.objects.all()\n",
    "qs"
   ]
  },
  {
   "cell_type": "code",
   "execution_count": 22,
   "id": "f1d8fa37-6b36-4f1c-a78b-19b2585853b2",
   "metadata": {},
   "outputs": [
    {
     "data": {
      "text/plain": [
       "<QuerySet [<Product: Product object (1)>]>"
      ]
     },
     "execution_count": 22,
     "metadata": {},
     "output_type": "execute_result"
    }
   ],
   "source": [
    "product_qs=Product.objects.all()\n",
    "product_qs"
   ]
  },
  {
   "cell_type": "code",
   "execution_count": null,
   "id": "7aeca26f-1a08-42f7-bffd-07fec6b04edc",
   "metadata": {},
   "outputs": [],
   "source": []
  }
 ],
 "metadata": {
  "kernelspec": {
   "display_name": "Python 3 (ipykernel)",
   "language": "python",
   "name": "python3"
  },
  "language_info": {
   "codemirror_mode": {
    "name": "ipython",
    "version": 3
   },
   "file_extension": ".py",
   "mimetype": "text/x-python",
   "name": "python",
   "nbconvert_exporter": "python",
   "pygments_lexer": "ipython3",
   "version": "3.12.6"
  }
 },
 "nbformat": 4,
 "nbformat_minor": 5
}
